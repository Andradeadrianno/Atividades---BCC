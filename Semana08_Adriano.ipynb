{
  "nbformat": 4,
  "nbformat_minor": 0,
  "metadata": {
    "colab": {
      "name": "Semana08 - Adriano.ipynb",
      "provenance": [],
      "authorship_tag": "ABX9TyM76Op5NmwfoxNw6vF5yGmd",
      "include_colab_link": true
    },
    "kernelspec": {
      "display_name": "Python 3",
      "name": "python3"
    }
  },
  "cells": [
    {
      "cell_type": "markdown",
      "metadata": {
        "id": "view-in-github",
        "colab_type": "text"
      },
      "source": [
        "<a href=\"https://colab.research.google.com/github/Andradeadrianno/Atividades---BCC/blob/main/Semana08_Adriano.ipynb\" target=\"_parent\"><img src=\"https://colab.research.google.com/assets/colab-badge.svg\" alt=\"Open In Colab\"/></a>"
      ]
    },
    {
      "cell_type": "markdown",
      "metadata": {
        "id": "7GcuuJuxv2mx"
      },
      "source": [
        "## Semana 08 - Estrutura de repetição - Exercícios Laços"
      ]
    },
    {
      "cell_type": "code",
      "metadata": {
        "id": "e7W9TYbiwKre"
      },
      "source": [
        "import pandas as pd "
      ],
      "execution_count": null,
      "outputs": []
    },
    {
      "cell_type": "markdown",
      "metadata": {
        "id": "NMF2501sQZfE"
      },
      "source": [
        "1 - Escreva um programa que exiba 30 vezes na tela a mensagem:\n",
        "“Vou ser aprovada(o) com A na disciplina Bases Computacionais!”"
      ]
    },
    {
      "cell_type": "code",
      "metadata": {
        "colab": {
          "base_uri": "https://localhost:8080/"
        },
        "id": "oVUy53-PwPH1",
        "outputId": "a2ff8a5b-f7bb-4e09-840e-d3cab0feb3e3"
      },
      "source": [
        "\n",
        "\n",
        "for valor in range(30):\n",
        " print(\"Vou ser aprovado com A na disciplina Bases Computacionais\")"
      ],
      "execution_count": null,
      "outputs": [
        {
          "output_type": "stream",
          "text": [
            "Vou ser aprovado com A na disciplina Bases Computacionais\n",
            "Vou ser aprovado com A na disciplina Bases Computacionais\n",
            "Vou ser aprovado com A na disciplina Bases Computacionais\n",
            "Vou ser aprovado com A na disciplina Bases Computacionais\n",
            "Vou ser aprovado com A na disciplina Bases Computacionais\n",
            "Vou ser aprovado com A na disciplina Bases Computacionais\n",
            "Vou ser aprovado com A na disciplina Bases Computacionais\n",
            "Vou ser aprovado com A na disciplina Bases Computacionais\n",
            "Vou ser aprovado com A na disciplina Bases Computacionais\n",
            "Vou ser aprovado com A na disciplina Bases Computacionais\n",
            "Vou ser aprovado com A na disciplina Bases Computacionais\n",
            "Vou ser aprovado com A na disciplina Bases Computacionais\n",
            "Vou ser aprovado com A na disciplina Bases Computacionais\n",
            "Vou ser aprovado com A na disciplina Bases Computacionais\n",
            "Vou ser aprovado com A na disciplina Bases Computacionais\n",
            "Vou ser aprovado com A na disciplina Bases Computacionais\n",
            "Vou ser aprovado com A na disciplina Bases Computacionais\n",
            "Vou ser aprovado com A na disciplina Bases Computacionais\n",
            "Vou ser aprovado com A na disciplina Bases Computacionais\n",
            "Vou ser aprovado com A na disciplina Bases Computacionais\n",
            "Vou ser aprovado com A na disciplina Bases Computacionais\n",
            "Vou ser aprovado com A na disciplina Bases Computacionais\n",
            "Vou ser aprovado com A na disciplina Bases Computacionais\n",
            "Vou ser aprovado com A na disciplina Bases Computacionais\n",
            "Vou ser aprovado com A na disciplina Bases Computacionais\n",
            "Vou ser aprovado com A na disciplina Bases Computacionais\n",
            "Vou ser aprovado com A na disciplina Bases Computacionais\n",
            "Vou ser aprovado com A na disciplina Bases Computacionais\n",
            "Vou ser aprovado com A na disciplina Bases Computacionais\n",
            "Vou ser aprovado com A na disciplina Bases Computacionais\n"
          ],
          "name": "stdout"
        }
      ]
    },
    {
      "cell_type": "markdown",
      "metadata": {
        "id": "e0tB-EwFQx0L"
      },
      "source": [
        "2. Dado N > 0 e uma sequência de n números calcular a soma dos\n",
        "elementos da sequência:"
      ]
    },
    {
      "cell_type": "code",
      "metadata": {
        "colab": {
          "base_uri": "https://localhost:8080/"
        },
        "id": "lO41BGHCzYHq",
        "outputId": "fd1d837d-4099-49a9-b04f-61d048823840"
      },
      "source": [
        " \n",
        "n = int(input(\"Quantos números você deseja digitar?: \"))\n",
        "i=0\n",
        "soma = 0\n",
        "\n",
        "while i<n:\n",
        "  número=float(input(\"Digite um número: \"))\n",
        "  soma+=número\n",
        "  i+=1\n",
        "\n",
        "  print(soma)\n",
        "\n",
        "\n"
      ],
      "execution_count": null,
      "outputs": [
        {
          "output_type": "stream",
          "text": [
            "Quantos números você deseja digitar?: 3\n",
            "Digite um número: 22\n",
            "22.0\n",
            "Digite um número: 33\n",
            "55.0\n",
            "Digite um número: 26\n",
            "81.0\n"
          ],
          "name": "stdout"
        }
      ]
    },
    {
      "cell_type": "markdown",
      "metadata": {
        "id": "aidd9zjERLnV"
      },
      "source": [
        "3. Escreva um programa que solicite ao usuário uma letra e verifique se ela é\n",
        "uma vogal ou não exibindo uma mensagem correspondente. Exiba:\n",
        "Caso verdadeiro: “É uma vogal”\n",
        "Caso falso: “Não é uma vogal”\n",
        "O programa encerra-se quando o usuário entrar com o valor 9."
      ]
    },
    {
      "cell_type": "code",
      "metadata": {
        "colab": {
          "base_uri": "https://localhost:8080/"
        },
        "id": "JwtrTMmkz1nV",
        "outputId": "dd0112ad-9c2b-4227-a2e1-aab5a1ce54a9"
      },
      "source": [
        "letra = \"\"\n",
        "print(\"Para encerrar o programa digite 9\")\n",
        "while letra!='9':\n",
        "  letra = input(\"Digite uma letra: \")\n",
        "\n",
        "  if letra.isdigit() == True:\n",
        "    print(\"Você digitou um número e não uma letra\")\n",
        "  else:\n",
        "    letra = letra.upper()\n",
        "    if letra == 'A' or letra == 'E' or letra == 'I'or letra == 'O' or letra == 'U':\n",
        "      print(\"É uma vogal\")\n",
        "    else:\n",
        "      print(\"Não é uma vogal\")\n",
        "\n",
        "\n",
        "\n"
      ],
      "execution_count": null,
      "outputs": [
        {
          "output_type": "stream",
          "text": [
            "Para encerrar o programa digite 9\n",
            "Digite uma letra: A\n",
            "É uma vogal\n",
            "Digite uma letra: a\n",
            "É uma vogal\n",
            "Digite uma letra: B\n",
            "Não é uma vogal\n",
            "Digite uma letra: b\n",
            "Não é uma vogal\n",
            "Digite uma letra: 9\n",
            "Você digitou um número e não uma letra\n"
          ],
          "name": "stdout"
        }
      ]
    },
    {
      "cell_type": "markdown",
      "metadata": {
        "id": "4Wk6afQoVTUS"
      },
      "source": [
        "4. Escreva um algoritmo que peça como entrada o peso (em kilogramas) e a\n",
        "altura (em metros) de 30 pessoas pessoa e calcule e exiba o seu IMC –\n",
        "Índice de Massa Corpórea. Adicionalmente, o programa deve emitir as\n",
        "mensagens correspondentes conforme a tabela a seguir:\n",
        "Cálculo IMC:\n",
        "O IMC é calculado da seguinte forma: divide-se o peso (quilogramas) pela\n",
        "altura ao quadrado (em metros)."
      ]
    },
    {
      "cell_type": "code",
      "metadata": {
        "colab": {
          "base_uri": "https://localhost:8080/"
        },
        "id": "lzuqnf97B87D",
        "outputId": "e79fdfdc-ecb6-4c8f-a9df-bff9b8d3971c"
      },
      "source": [
        "\n",
        "for i in range(30):\n",
        "\tpeso = float(input('Qual é o seu peso? (Kg) '))\n",
        "\taltura = float(input('Qual é a sua altura? (m) '))\n",
        "\timc = peso / (altura ** 2)\n",
        "\t\n",
        "\t\n",
        "\tif imc < 18.5:\n",
        "\t    print('Você está abaixo do peso ideal')\n",
        "\telif imc < 25:\n",
        "\t    print('Parabéns! - você está em seu peso normal')\n",
        "\telif imc < 30:\n",
        "\t    print('Você está acima do seu peso(sobrepeso)')\n",
        "\telif imc < 35:\n",
        "\t    print('Obesidade grau I')\n",
        "\telif imc < 40:\n",
        "\t    print('Obesidade grau II')\n",
        "\telif imc > 40:\n",
        "\t    print ('Obesidade grau III')\n",
        "\n",
        "\n"
      ],
      "execution_count": null,
      "outputs": [
        {
          "output_type": "stream",
          "text": [
            "Qual é o seu peso? (Kg) 68\n",
            "Qual é a sua altura? (m) 1.66\n",
            "Parabéns! - você está em seu peso normal\n",
            "Qual é o seu peso? (Kg) 74\n",
            "Qual é a sua altura? (m) 1.61\n",
            "Você está acima do seu peso(sobrepeso)\n",
            "Qual é o seu peso? (Kg) 40\n",
            "Qual é a sua altura? (m) 1.77\n",
            "Você está abaixo do peso ideal\n",
            "Qual é o seu peso? (Kg) 80\n",
            "Qual é a sua altura? (m) 1.65\n",
            "Você está acima do seu peso(sobrepeso)\n",
            "Qual é o seu peso? (Kg) 96\n",
            "Qual é a sua altura? (m) 1.66\n",
            "Obesidade grau I\n",
            "Qual é o seu peso? (Kg) 98\n",
            "Qual é a sua altura? (m) 1.55\n",
            "Obesidade grau III\n",
            "Qual é o seu peso? (Kg) 89\n",
            "Qual é a sua altura? (m) 1.51\n",
            "Obesidade grau II\n",
            "Qual é o seu peso? (Kg) 50\n",
            "Qual é a sua altura? (m) 1.70\n",
            "Você está abaixo do peso ideal\n",
            "Qual é o seu peso? (Kg) 65\n",
            "Qual é a sua altura? (m) 1.70\n",
            "Parabéns! - você está em seu peso normal\n",
            "Qual é o seu peso? (Kg) 60\n",
            "Qual é a sua altura? (m) 1.76\n",
            "Parabéns! - você está em seu peso normal\n",
            "Qual é o seu peso? (Kg) 80\n",
            "Qual é a sua altura? (m) 1.90\n",
            "Parabéns! - você está em seu peso normal\n",
            "Qual é o seu peso? (Kg) 57\n",
            "Qual é a sua altura? (m) 1.60\n",
            "Parabéns! - você está em seu peso normal\n",
            "Qual é o seu peso? (Kg) 76\n",
            "Qual é a sua altura? (m) 1.75\n",
            "Parabéns! - você está em seu peso normal\n",
            "Qual é o seu peso? (Kg) 88\n",
            "Qual é a sua altura? (m) 1.63\n",
            "Obesidade grau I\n",
            "Qual é o seu peso? (Kg) 68\n",
            "Qual é a sua altura? (m) 1.55\n",
            "Você está acima do seu peso(sobrepeso)\n",
            "Qual é o seu peso? (Kg) 77\n",
            "Qual é a sua altura? (m) 1.86\n",
            "Parabéns! - você está em seu peso normal\n",
            "Qual é o seu peso? (Kg) 87\n",
            "Qual é a sua altura? (m) 1.56\n",
            "Obesidade grau II\n",
            "Qual é o seu peso? (Kg) 69\n",
            "Qual é a sua altura? (m) 1.67\n",
            "Parabéns! - você está em seu peso normal\n",
            "Qual é o seu peso? (Kg) 54\n",
            "Qual é a sua altura? (m) 1.50\n",
            "Parabéns! - você está em seu peso normal\n",
            "Qual é o seu peso? (Kg) 63\n",
            "Qual é a sua altura? (m) 1.65\n",
            "Parabéns! - você está em seu peso normal\n",
            "Qual é o seu peso? (Kg) 1.77\n",
            "Qual é a sua altura? (m) 1.55\n",
            "Você está abaixo do peso ideal\n",
            "Qual é o seu peso? (Kg) 56\n",
            "Qual é a sua altura? (m) 1.89\n",
            "Você está abaixo do peso ideal\n",
            "Qual é o seu peso? (Kg) 79\n",
            "Qual é a sua altura? (m) 1.87\n",
            "Parabéns! - você está em seu peso normal\n",
            "Qual é o seu peso? (Kg) 65\n",
            "Qual é a sua altura? (m) 1.55\n",
            "Você está acima do seu peso(sobrepeso)\n",
            "Qual é o seu peso? (Kg) 43\n",
            "Qual é a sua altura? (m) 1.54\n",
            "Você está abaixo do peso ideal\n",
            "Qual é o seu peso? (Kg) 433\n",
            "Qual é a sua altura? (m) 1.99\n",
            "Obesidade grau III\n",
            "Qual é o seu peso? (Kg) 56\n",
            "Qual é a sua altura? (m) 1.78\n",
            "Você está abaixo do peso ideal\n",
            "Qual é o seu peso? (Kg) 1.56\n",
            "Qual é a sua altura? (m) 60\n",
            "Você está abaixo do peso ideal\n",
            "Qual é o seu peso? (Kg) 43\n",
            "Qual é a sua altura? (m) 1.54\n",
            "Você está abaixo do peso ideal\n",
            "Qual é o seu peso? (Kg) 80\n",
            "Qual é a sua altura? (m) 1.69\n",
            "Você está acima do seu peso(sobrepeso)\n"
          ],
          "name": "stdout"
        }
      ]
    },
    {
      "cell_type": "markdown",
      "metadata": {
        "id": "5hkWWiDKV4iH"
      },
      "source": [
        "5. Escreva um algoritmo para calcular a quantidade de latas de tintas\n",
        "necessárias para pintar o piso de todas as casas de um condomínio com 12\n",
        "casas, sendo que cada uma delas têm uma planta quadrada e uma área de\n",
        "120 m2. .\n",
        "Deve-se calcular também o custo total para comprar as latas de tintas\n",
        "necessárias.\n",
        "Sabe-se que:\n",
        "Cada lata de tinta contém 5 litros\n",
        "Cada litro de tinta pinta 3 metros quadrados\n",
        "A área quadrado é dada por: lado x lado"
      ]
    },
    {
      "cell_type": "code",
      "metadata": {
        "id": "aI3LzTQ9jkVu",
        "colab": {
          "base_uri": "https://localhost:8080/"
        },
        "outputId": "190ccc1b-9634-4391-b9ea-afc74acfc49f"
      },
      "source": [
        "casas = 12\n",
        "areaCasa = 120\n",
        "totalarea = casas * areaCasa\n",
        "\n",
        "qtdlitro = totalarea / 3\n",
        "qtdlata = qtdlitro / 5\n",
        "\n",
        "print(\"Quantidade de litros de tinta necessários: \", qtdlitro)\n",
        "print(\"Quantidade de latas necessárias: \", qtdlata)\n"
      ],
      "execution_count": null,
      "outputs": [
        {
          "output_type": "stream",
          "text": [
            "Quantidade de litros de tinta necessários:  480.0\n",
            "Quantidade de latas necessárias:  96.0\n"
          ],
          "name": "stdout"
        }
      ]
    },
    {
      "cell_type": "markdown",
      "metadata": {
        "id": "35n2HvZRWS6C"
      },
      "source": [
        "6.Uma revendedora de carros usados paga seus 20 funcionários vendedores um\n",
        "salário fixo por mês, mais uma comissão, também fixa, por cada carro vendido, e\n",
        "mais 5% do valor das vendas por ele efetuadas. Escrever um para ler o número do\n",
        "vendedor, o número de carros por ele vendido, o valor total de suas vendas, o\n",
        "salário fixo e o valor que recebe por carro vendido. Ao final, o algoritmo deve\n",
        "calcular o salário mensal do vendedor, escrevendo-o juntamente com o seu número\n",
        "de identificação.\n",
        "\n",
        "Escreva um programa que solicita a idade de 20 pessoas e exiba a quantidade de\n",
        "pessoas que possui idade maior ou igual a 18 anos. Exibir também a média da idade\n",
        "das 20 pessoas.\n",
        "\n",
        "Faça um programa que solicite uma funçao: soma, subtração, multiplicação e divisão, 2 números e imprima o resultado da operação.\n",
        "O programa deve executar essas funções até o usuário entrar com o valor -1."
      ]
    },
    {
      "cell_type": "code",
      "metadata": {
        "colab": {
          "base_uri": "https://localhost:8080/"
        },
        "id": "LyfH7a2Vkxtx",
        "outputId": "656a245e-1987-41fc-a99a-e10900e6110d"
      },
      "source": [
        "#Parte 1\n",
        "\n",
        "for i in range(20):\n",
        "\tid = int(input(\"Digite o numero do vendedor: \"))\n",
        "\tNumCarrosVendidos = int(input(\"Digite o número de carros vendidos: \"))\n",
        "\tValorTotalVendas = float(input(\"Digite o valor total das vendas: \"))\n",
        "\tsalariofixo = float(input(\"Digite o salario fixo do vendedor: \"))\n",
        "\tcomissao = float(input(\"Digite o valor que recebe por carro vendido: \"))\n",
        "\t\n",
        "\tsalariototal= salariofixo + (comissao*NumCarrosVendidos) + ((ValorTotalVendas*5)/100)\n",
        "\t\n",
        "\tprint(\"Id vendedor: \", id)\n",
        "\tprint(\"Salario: \", salariototal)\n",
        " \n",
        " \n",
        "\n",
        "\n",
        "\n",
        "\n",
        "\n"
      ],
      "execution_count": null,
      "outputs": [
        {
          "output_type": "stream",
          "text": [
            "Digite o numero do vendedor: 20\n",
            "Digite o número de carros vendidos: 2\n",
            "Digite o valor total das vendas: 20.000\n",
            "Digite o salario fixo do vendedor: 1.200\n",
            "Digite o valor que recebe por carro vendido: 2.000\n",
            "Id vendedor:  20\n",
            "Salario:  6.2\n",
            "Digite o numero do vendedor: 19\n",
            "Digite o número de carros vendidos: 3\n",
            "Digite o valor total das vendas: 35.000\n",
            "Digite o salario fixo do vendedor: 1.200\n",
            "Digite o valor que recebe por carro vendido: 2.000\n",
            "Id vendedor:  19\n",
            "Salario:  8.95\n",
            "Digite o numero do vendedor: 18\n",
            "Digite o número de carros vendidos: 4\n",
            "Digite o valor total das vendas: 50.000\n",
            "Digite o salario fixo do vendedor: 1.200\n",
            "Digite o valor que recebe por carro vendido: 2.000\n",
            "Id vendedor:  18\n",
            "Salario:  11.7\n",
            "Digite o numero do vendedor: 17\n",
            "Digite o número de carros vendidos: 2\n",
            "Digite o valor total das vendas: 25.000\n",
            "Digite o salario fixo do vendedor: 1.200\n",
            "Digite o valor que recebe por carro vendido: 2.000\n",
            "Id vendedor:  17\n",
            "Salario:  6.45\n",
            "Digite o numero do vendedor: 16\n",
            "Digite o número de carros vendidos: 5\n",
            "Digite o valor total das vendas: 80.000\n",
            "Digite o salario fixo do vendedor: 2.000\n",
            "Digite o valor que recebe por carro vendido: 2.000\n",
            "Id vendedor:  16\n",
            "Salario:  16.0\n",
            "Digite o numero do vendedor: 15\n",
            "Digite o número de carros vendidos: 3\n",
            "Digite o valor total das vendas: 40.000\n",
            "Digite o salario fixo do vendedor: 1.200\n",
            "Digite o valor que recebe por carro vendido: 2.000\n",
            "Id vendedor:  15\n",
            "Salario:  9.2\n",
            "Digite o numero do vendedor: 14\n",
            "Digite o número de carros vendidos: 7\n",
            "Digite o valor total das vendas: 100.000\n",
            "Digite o salario fixo do vendedor: 1.200\n",
            "Digite o valor que recebe por carro vendido: 2.000\n",
            "Id vendedor:  14\n",
            "Salario:  20.2\n",
            "Digite o numero do vendedor: 13\n",
            "Digite o número de carros vendidos: 3\n",
            "Digite o valor total das vendas: 37.000\n",
            "Digite o salario fixo do vendedor: 1.200\n",
            "Digite o valor que recebe por carro vendido: 2.000\n",
            "Id vendedor:  13\n",
            "Salario:  9.05\n",
            "Digite o numero do vendedor: 12\n",
            "Digite o número de carros vendidos: 1\n",
            "Digite o valor total das vendas: 25.000\n",
            "Digite o salario fixo do vendedor: 1.200\n",
            "Digite o valor que recebe por carro vendido: 2.000\n",
            "Id vendedor:  12\n",
            "Salario:  4.45\n",
            "Digite o numero do vendedor: 11\n",
            "Digite o número de carros vendidos: 4\n",
            "Digite o valor total das vendas: 50.000\n",
            "Digite o salario fixo do vendedor: 1.200\n",
            "Digite o valor que recebe por carro vendido: 2.000\n",
            "Id vendedor:  11\n",
            "Salario:  11.7\n",
            "Digite o numero do vendedor: 10\n",
            "Digite o número de carros vendidos: 2\n",
            "Digite o valor total das vendas: 31.000\n",
            "Digite o salario fixo do vendedor: 1.200\n",
            "Digite o valor que recebe por carro vendido: 2.000\n",
            "Id vendedor:  10\n",
            "Salario:  6.75\n",
            "Digite o numero do vendedor: 9\n",
            "Digite o número de carros vendidos: 7\n",
            "Digite o valor total das vendas: 85.000\n",
            "Digite o salario fixo do vendedor: 1.200\n",
            "Digite o valor que recebe por carro vendido: 2.000\n",
            "Id vendedor:  9\n",
            "Salario:  19.45\n",
            "Digite o numero do vendedor: 8\n",
            "Digite o número de carros vendidos: 10\n",
            "Digite o valor total das vendas: 130.000\n",
            "Digite o salario fixo do vendedor: 1.200\n",
            "Digite o valor que recebe por carro vendido: 2.000\n",
            "Id vendedor:  8\n",
            "Salario:  27.7\n",
            "Digite o numero do vendedor: 7\n",
            "Digite o número de carros vendidos: 20\n",
            "Digite o valor total das vendas: 200.000\n",
            "Digite o salario fixo do vendedor: 1.200\n",
            "Digite o valor que recebe por carro vendido: 2.000\n",
            "Id vendedor:  7\n",
            "Salario:  51.2\n",
            "Digite o numero do vendedor: 6\n",
            "Digite o número de carros vendidos: 40\n",
            "Digite o valor total das vendas: 500.000\n",
            "Digite o salario fixo do vendedor: 1.200\n",
            "Digite o valor que recebe por carro vendido: 2.000\n",
            "Id vendedor:  6\n",
            "Salario:  106.2\n",
            "Digite o numero do vendedor: 5\n",
            "Digite o número de carros vendidos: 3\n",
            "Digite o valor total das vendas: 45.000\n",
            "Digite o salario fixo do vendedor: 1.200\n",
            "Digite o valor que recebe por carro vendido: 2.000\n",
            "Id vendedor:  5\n",
            "Salario:  9.45\n",
            "Digite o numero do vendedor: 4\n",
            "Digite o número de carros vendidos: 4\n",
            "Digite o valor total das vendas: 40.000\n",
            "Digite o salario fixo do vendedor: 1.200\n",
            "Digite o valor que recebe por carro vendido: 2.000\n",
            "Id vendedor:  4\n",
            "Salario:  11.2\n",
            "Digite o numero do vendedor: 3\n",
            "Digite o número de carros vendidos: 5\n",
            "Digite o valor total das vendas: 60.000\n",
            "Digite o salario fixo do vendedor: 4.000\n",
            "Digite o valor que recebe por carro vendido: 3.000\n",
            "Id vendedor:  3\n",
            "Salario:  22.0\n",
            "Digite o numero do vendedor: 2\n",
            "Digite o número de carros vendidos: 4\n",
            "Digite o valor total das vendas: 50.000\n",
            "Digite o salario fixo do vendedor: 1.200\n",
            "Digite o valor que recebe por carro vendido: 2.000\n",
            "Id vendedor:  2\n",
            "Salario:  11.7\n",
            "Digite o numero do vendedor: 1\n",
            "Digite o número de carros vendidos: 2\n",
            "Digite o valor total das vendas: 40.000\n",
            "Digite o salario fixo do vendedor: 1.200\n",
            "Digite o valor que recebe por carro vendido: 2.403\n",
            "Id vendedor:  1\n",
            "Salario:  8.006\n"
          ],
          "name": "stdout"
        }
      ]
    },
    {
      "cell_type": "code",
      "metadata": {
        "colab": {
          "base_uri": "https://localhost:8080/"
        },
        "id": "yzU_0w_l4Jq-",
        "outputId": "1192767b-c2e0-4cd6-f971-5a1bd45476bb"
      },
      "source": [
        "#Parte 2\n",
        "\n",
        "total=0\n",
        "somaidade=0\n",
        "for i in range(20):\n",
        "\tidade = int(input(\"Digite a idade: \"))\n",
        "\tif idade>=18: \n",
        "\t\ttotal +=1\n",
        "\tsomaidade+=idade\n",
        "\n",
        "media = somaidade/20\n",
        "\n",
        "print(total, \"pessoas tem mais ou 18 anos\")\n",
        "print(\"A média das 20 pessoas é\", media)"
      ],
      "execution_count": null,
      "outputs": [
        {
          "output_type": "stream",
          "text": [
            "Digite a idade: 26\n",
            "Digite a idade: 19\n",
            "Digite a idade: 14\n",
            "Digite a idade: 18\n",
            "Digite a idade: 23\n",
            "Digite a idade: 29\n",
            "Digite a idade: 16\n",
            "Digite a idade: 15\n",
            "Digite a idade: 34\n",
            "Digite a idade: 33\n",
            "Digite a idade: 17\n",
            "Digite a idade: 13\n",
            "Digite a idade: 20\n",
            "Digite a idade: 21\n",
            "Digite a idade: 22\n",
            "Digite a idade: 30\n",
            "Digite a idade: 28\n",
            "Digite a idade: 27\n",
            "Digite a idade: 25\n",
            "Digite a idade: 21\n",
            "15 pessoas tem mais ou 18 anos\n",
            "A média das 20 pessoas é 22.55\n"
          ],
          "name": "stdout"
        }
      ]
    },
    {
      "cell_type": "code",
      "metadata": {
        "colab": {
          "base_uri": "https://localhost:8080/"
        },
        "id": "mO7VluqPBGtK",
        "outputId": "e7eae199-1ea8-45a2-a263-2043e8cda080"
      },
      "source": [
        "#Parte 3\n",
        "\n",
        "while True:\n",
        "\toperacao=input(\"Digite soma, subtração, multiplicação, divisão ou -1 (encerrar o programa): \")\n",
        "\tif operacao==\"-1\": \n",
        "\t\tbreak\n",
        "\telse:\n",
        "\t\tnum1 = float(input(\"Digite um numero: \"))\n",
        "\t\tnum2 = float(input(\"Digite o segundo numero: \"))\n",
        "\t\tif operacao==\"soma\": \n",
        "\t\t\tprint(num1 + num2)\n",
        "\t\telif operacao == \"subtração\":\n",
        "\t\t\tprint(num1-num2)\n",
        "\t\telif operacao==\"multiplicação\":\n",
        "\t\t\tprint(num1*num2)\n",
        "\t\telif operacao==\"divisão\": \n",
        "\t\t\tprint(num1/num2)\n",
        "\t\telse: \n",
        "\t\t\tprint(\"Opçao invalida, tente novamente\")\n",
        "   "
      ],
      "execution_count": null,
      "outputs": [
        {
          "output_type": "stream",
          "text": [
            "Digite soma, subtração, multiplicação, divisão ou -1 (encerrar o programa): soma\n",
            "Digite um numero: 5\n",
            "Digite o segundo numero: 10\n",
            "15.0\n",
            "Digite soma, subtração, multiplicação, divisão ou -1 (encerrar o programa): subtração\n",
            "Digite um numero: 10\n",
            "Digite o segundo numero: 5\n",
            "5.0\n",
            "Digite soma, subtração, multiplicação, divisão ou -1 (encerrar o programa): multiplicação\n",
            "Digite um numero: 2\n",
            "Digite o segundo numero: 7\n",
            "14.0\n",
            "Digite soma, subtração, multiplicação, divisão ou -1 (encerrar o programa): divisão\n",
            "Digite um numero: 50\n",
            "Digite o segundo numero: 2\n",
            "25.0\n",
            "Digite soma, subtração, multiplicação, divisão ou -1 (encerrar o programa): -1\n"
          ],
          "name": "stdout"
        }
      ]
    }
  ]
}